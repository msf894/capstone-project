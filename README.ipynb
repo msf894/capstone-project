{
 "cells": [
  {
   "cell_type": "markdown",
   "metadata": {},
   "source": [
    "# Analysis and Predictive Modeling for NFL Playcalling"
   ]
  },
  {
   "cell_type": "markdown",
   "metadata": {},
   "source": [
    "One of the most legendary quotes in American Football belongs to coach Paul “Bear” Bryant who said \"Defense wins championships.\" In the wake of phenomenal offensive talents such as Patrick Mahomes and Lamar Jackson, it's apparent that the league has shifted towards an offense-focused mindset. It's hard to argue with results, especially when they result in championships. Regardless, there is a reason why coaches and players spent hours upon hours reviewing film of their opponents. Film sessions are done to point out what type of plays offenses like to run and help better prepare the defense for your opponent. You might not be able to completely stop a player like Mahomes but if you can slow him down, you can put your team in a better position to win."
   ]
  },
  {
   "cell_type": "markdown",
   "metadata": {},
   "source": [
    "![mahomes](Images/mahomes.gif)"
   ]
  },
  {
   "cell_type": "markdown",
   "metadata": {},
   "source": [
    "The purpose of this project was to analyze NFL offense tendencies and design a predictive model that could accurately predict whether a team is planning on passing or running the ball. By looking at play-by-play data from all NFL regular season games, I wanted to identify any trends in offense play-calling that have become prevalent in recent years. I also developed visualizations to help provide an in-depth look into which sides of the field an offense liked to attack when running or passing the ball. By learning a team's tendencies on offense, you can have your defense in a better situation to anticipate the play-call and make a stop or even force a turnover."
   ]
  },
  {
   "cell_type": "markdown",
   "metadata": {},
   "source": [
    "# Data Information:"
   ]
  },
  {
   "cell_type": "markdown",
   "metadata": {},
   "source": [
    "The majority of the dataset used came from a dataset on Kaggle. This dataset contains play-by-play details for all regular season games going back to 2009. It contains various columns about each play, such as a description of the play, how many yards were gained on the play, and which players were involved. Supplemental information was taken from www.pro-football-reference.com and NFL Game Pass for video corroboration. The original dataset can be accessed through this link: https://www.kaggle.com/maxhorowitz/nflplaybyplay2009to2016"
   ]
  },
  {
   "cell_type": "markdown",
   "metadata": {},
   "source": [
    "# Libraries Used in this Project:"
   ]
  },
  {
   "cell_type": "markdown",
   "metadata": {},
   "source": [
    "* Pandas for data cleaning and data manipulation\n",
    "* Matplotlib and Seaborn for data visualizations\n",
    "* Sci-kit Learn for machine learning modeling\n",
    "* BeautifulSoup for data scraping"
   ]
  },
  {
   "cell_type": "markdown",
   "metadata": {},
   "source": [
    "# Data Visualizations"
   ]
  },
  {
   "cell_type": "markdown",
   "metadata": {},
   "source": [
    "With access to a vast amount of play-by-play data and stats, I wanted to add an additional component to my project. I decided to put it towards creating visualizations that could show how the league and individual teams have changed over the years. There are certain notions about how football has evolved over the years that I wanted to look at, such as a common thought that the NFL has become a “pass-heavy” league. The reality is that the pass-run ratio has barely changed in recent years."
   ]
  },
  {
   "cell_type": "markdown",
   "metadata": {
    "ExecuteTime": {
     "end_time": "2020-10-29T05:52:48.555905Z",
     "start_time": "2020-10-29T05:52:48.415877Z"
    }
   },
   "source": [
    "![league_play_distribution](Images/league_play_distribution1.png)"
   ]
  },
  {
   "cell_type": "code",
   "execution_count": null,
   "metadata": {},
   "outputs": [],
   "source": []
  },
  {
   "cell_type": "markdown",
   "metadata": {},
   "source": [
    "![play_distribution_by_score](Images/play_distribution_by_score1.png)"
   ]
  },
  {
   "cell_type": "markdown",
   "metadata": {},
   "source": [
    "## Play-Calling Dashboard"
   ]
  },
  {
   "cell_type": "markdown",
   "metadata": {},
   "source": [
    "As part of this project, I wanted to create visualizations that would help identify trends and tendencies for each NFL team. Not only would I be able to show how a certain team has changed over the years, but I can highlight a team's performance and patterns for a particular season. For example, I can see how much a team may favor running on first down or at what point is it more expected that a team will throw depending on how late into the game it is."
   ]
  },
  {
   "cell_type": "markdown",
   "metadata": {},
   "source": [
    "![nyj_trend](Images/nyj_trends.png)"
   ]
  },
  {
   "cell_type": "markdown",
   "metadata": {},
   "source": [
    "In addition to plotting trends and tendencies for each team, I also created heatmap visualizations highlighting where each team preferred to throw and run the ball against each opponent. These heatmaps are useful to show which sides of the field a team's offense preferred when going against a particular team. Since NFL teams generally plan and scheme their offense to counter defensive schemes, it helps to highlight potential weaknesses and methods of attack."
   ]
  },
  {
   "cell_type": "markdown",
   "metadata": {},
   "source": [
    "![pass_run_heatmap](Images/pass_run_heatmaps.png)"
   ]
  },
  {
   "cell_type": "markdown",
   "metadata": {},
   "source": [
    "# Predictive Modeling:"
   ]
  },
  {
   "cell_type": "markdown",
   "metadata": {},
   "source": [
    "I used a number of machine learning models that were designed to predict whether a play would be be a pass or run. Each of the models were provided with details that a defense would have previous to the play occurring, such as the score differential and the yards to go for a first down. The following models were used:\n",
    "\n",
    "* Logistic Regression\n",
    "* Decision Trees\n",
    "* Ensemble Methods with Decision Trees\n",
    "* Random Forests\n",
    "* XGBoost"
   ]
  },
  {
   "cell_type": "markdown",
   "metadata": {},
   "source": [
    "The main metric used to compare each model's performance was its overall accuracy and the recall for a pass play. The reason recall for a play was used is due to the fact that, on average, a pass play would yield more yards than a run play."
   ]
  },
  {
   "cell_type": "markdown",
   "metadata": {
    "ExecuteTime": {
     "end_time": "2020-10-25T01:34:44.072122Z",
     "start_time": "2020-10-25T01:34:43.993124Z"
    }
   },
   "source": [
    "![model_results_table](Images/model_results_table.png)"
   ]
  },
  {
   "cell_type": "markdown",
   "metadata": {
    "ExecuteTime": {
     "end_time": "2020-10-21T01:32:06.550653Z",
     "start_time": "2020-10-21T01:32:06.497653Z"
    }
   },
   "source": [
    "XGBoost performed the best out of all the models tested in terms of overall accuracy and pass recall."
   ]
  },
  {
   "cell_type": "markdown",
   "metadata": {
    "ExecuteTime": {
     "end_time": "2020-10-25T01:31:45.214067Z",
     "start_time": "2020-10-25T01:31:44.306082Z"
    }
   },
   "source": [
    "![xgboost_results](Images/xgboost_results.png)"
   ]
  },
  {
   "cell_type": "markdown",
   "metadata": {},
   "source": [
    "# Future Work:"
   ]
  },
  {
   "cell_type": "markdown",
   "metadata": {},
   "source": [
    "One of the most crucial components of a play not featured within this dataset was the personnel used on the play. As an example, certain personnel sets (ones with more TEs as blockers) are better suited for run plays. In addition, knowing who is on the field can provide valuable insights for what kind of play to suspect. I'd also like to incorporate playoff situations into the model. Towards the end of the season, teams that are fighting for a playoff spot will be more aggressive as they cannot afford to lose crucial games. Teams in need of a win will do what it takes to ensure they are in contention during the game. I would also like to do a web deployment where you can access the visualizations of play-calling trends and pass/run locations for each NFL team."
   ]
  }
 ],
 "metadata": {
  "kernelspec": {
   "display_name": "Python 3",
   "language": "python",
   "name": "python3"
  },
  "language_info": {
   "codemirror_mode": {
    "name": "ipython",
    "version": 3
   },
   "file_extension": ".py",
   "mimetype": "text/x-python",
   "name": "python",
   "nbconvert_exporter": "python",
   "pygments_lexer": "ipython3",
   "version": "3.7.6"
  },
  "toc": {
   "base_numbering": 1,
   "nav_menu": {},
   "number_sections": false,
   "sideBar": true,
   "skip_h1_title": false,
   "title_cell": "Table of Contents",
   "title_sidebar": "Contents",
   "toc_cell": false,
   "toc_position": {
    "height": "calc(100% - 180px)",
    "left": "10px",
    "top": "150px",
    "width": "384px"
   },
   "toc_section_display": true,
   "toc_window_display": true
  },
  "varInspector": {
   "cols": {
    "lenName": 16,
    "lenType": 16,
    "lenVar": 40
   },
   "kernels_config": {
    "python": {
     "delete_cmd_postfix": "",
     "delete_cmd_prefix": "del ",
     "library": "var_list.py",
     "varRefreshCmd": "print(var_dic_list())"
    },
    "r": {
     "delete_cmd_postfix": ") ",
     "delete_cmd_prefix": "rm(",
     "library": "var_list.r",
     "varRefreshCmd": "cat(var_dic_list()) "
    }
   },
   "types_to_exclude": [
    "module",
    "function",
    "builtin_function_or_method",
    "instance",
    "_Feature"
   ],
   "window_display": false
  }
 },
 "nbformat": 4,
 "nbformat_minor": 4
}
